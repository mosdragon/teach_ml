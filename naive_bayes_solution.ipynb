{
 "cells": [
  {
   "cell_type": "markdown",
   "metadata": {},
   "source": [
    "# Naive Bayes Classifier By Hand\n",
    "\n",
    "We're going to create our own Naive Bayes classifier to classify if the given information about a person's height, weight, and age indicate that this person is male or female.\n",
    "\n",
    "For this, we'll use a custom dataset called `people.csv`, which you'll find in the `datasets/` folder."
   ]
  },
  {
   "cell_type": "code",
   "execution_count": 1,
   "metadata": {},
   "outputs": [],
   "source": [
    "# Standard scientific Python imports\n",
    "import matplotlib.pyplot as plt\n",
    "\n",
    "# This gives us dataframes which will allow us to build our custom\n",
    "# Naive Bayes Classifier\n",
    "import pandas as pd\n",
    "\n",
    "# Standard numeric library that gives us optimized arrays and vectors\n",
    "import numpy as np"
   ]
  },
  {
   "cell_type": "code",
   "execution_count": 2,
   "metadata": {},
   "outputs": [
    {
     "data": {
      "text/html": [
       "<div>\n",
       "<style scoped>\n",
       "    .dataframe tbody tr th:only-of-type {\n",
       "        vertical-align: middle;\n",
       "    }\n",
       "\n",
       "    .dataframe tbody tr th {\n",
       "        vertical-align: top;\n",
       "    }\n",
       "\n",
       "    .dataframe thead th {\n",
       "        text-align: right;\n",
       "    }\n",
       "</style>\n",
       "<table border=\"1\" class=\"dataframe\">\n",
       "  <thead>\n",
       "    <tr style=\"text-align: right;\">\n",
       "      <th></th>\n",
       "      <th>Height</th>\n",
       "      <th>Weight</th>\n",
       "      <th>Age</th>\n",
       "      <th>Gender</th>\n",
       "    </tr>\n",
       "  </thead>\n",
       "  <tbody>\n",
       "    <tr>\n",
       "      <th>0</th>\n",
       "      <td>151.765</td>\n",
       "      <td>47.825606</td>\n",
       "      <td>63.0</td>\n",
       "      <td>male</td>\n",
       "    </tr>\n",
       "    <tr>\n",
       "      <th>1</th>\n",
       "      <td>139.700</td>\n",
       "      <td>36.485807</td>\n",
       "      <td>63.0</td>\n",
       "      <td>female</td>\n",
       "    </tr>\n",
       "    <tr>\n",
       "      <th>2</th>\n",
       "      <td>136.525</td>\n",
       "      <td>31.864838</td>\n",
       "      <td>65.0</td>\n",
       "      <td>female</td>\n",
       "    </tr>\n",
       "    <tr>\n",
       "      <th>3</th>\n",
       "      <td>156.845</td>\n",
       "      <td>53.041915</td>\n",
       "      <td>41.0</td>\n",
       "      <td>male</td>\n",
       "    </tr>\n",
       "    <tr>\n",
       "      <th>4</th>\n",
       "      <td>145.415</td>\n",
       "      <td>41.276872</td>\n",
       "      <td>51.0</td>\n",
       "      <td>female</td>\n",
       "    </tr>\n",
       "  </tbody>\n",
       "</table>\n",
       "</div>"
      ],
      "text/plain": [
       "    Height     Weight   Age  Gender\n",
       "0  151.765  47.825606  63.0    male\n",
       "1  139.700  36.485807  63.0  female\n",
       "2  136.525  31.864838  65.0  female\n",
       "3  156.845  53.041915  41.0    male\n",
       "4  145.415  41.276872  51.0  female"
      ]
     },
     "execution_count": 2,
     "metadata": {},
     "output_type": "execute_result"
    }
   ],
   "source": [
    "dataset = \"datasets/people.csv\"\n",
    "\n",
    "# We can read in a properly formatted CSV using this helper function.\n",
    "# This reads it in as a pandas dataframe object, which gives us a lot\n",
    "# of the same functionality we get in Excel like filtering, sorting, etc\n",
    "df = pd.read_csv(dataset)\n",
    "\n",
    "# This head() function gives us the first 5 items, which Jupyter notebook\n",
    "# formats nicely for us.\n",
    "df.head()"
   ]
  },
  {
   "cell_type": "markdown",
   "metadata": {},
   "source": [
    "####  Training Set and Test Set\n",
    "\n",
    "Now, we're going to split our dataset up into test and training. We want 70% of our data to go for testing, 30% for testing.\n"
   ]
  },
  {
   "cell_type": "code",
   "execution_count": 3,
   "metadata": {},
   "outputs": [
    {
     "name": "stdout",
     "output_type": "stream",
     "text": [
      "543\n",
      "Training set size: 380\n",
      "Test set size: 163\n"
     ]
    }
   ],
   "source": [
    "# This is how many examples we have.\n",
    "n_samples = df.shape[0]\n",
    "print(n_samples)\n",
    "\n",
    "# TODO: Compute train_size and test_size\n",
    "train_size = int(0.7 * n_samples)\n",
    "test_size = n_samples - train_size\n",
    "\n",
    "print(\"Training set size: {}\".format(train_size))\n",
    "print(\"Test set size: {}\".format(test_size))\n"
   ]
  },
  {
   "cell_type": "code",
   "execution_count": 4,
   "metadata": {},
   "outputs": [
    {
     "name": "stdout",
     "output_type": "stream",
     "text": [
      "Test X:\n",
      "      Height     Weight   Age\n",
      "380   67.945   7.966209   1.0\n",
      "381  135.890  27.215520  15.0\n",
      "382  158.115  47.485413  45.0\n",
      "383   85.090  10.801160   3.0\n",
      "384   93.345  14.004653   3.0\n",
      "\n",
      "Test y:\n",
      "     Gender\n",
      "380  female\n",
      "381  female\n",
      "382    male\n",
      "383    male\n",
      "384  female\n"
     ]
    }
   ],
   "source": [
    "# Create our test and train sets\n",
    "\n",
    "# NOTE: This training set is a dataframe that includes both X and y.\n",
    "# Our Naive Bayes classifier needs our training set to be like this, unlike scikit-learn's NB\n",
    "df_train = df[:train_size]\n",
    "\n",
    "\n",
    "# We create a temporary variable for our test set. This includes all features (Height, Weight, Age),\n",
    "# as well as label (Gender). We want to split those out.\n",
    "df_test_temp = df[train_size:]\n",
    "\n",
    "# The test set's X just needs the following 3 columns\n",
    "df_test_X = df_test_temp[[\"Height\", \"Weight\", \"Age\"]]\n",
    "\n",
    "# The test set's y just needs the Gender column\n",
    "df_test_y = df_test_temp[[\"Gender\"]]\n",
    "\n",
    "print(\"Test X:\")\n",
    "print(df_test_X.head())\n",
    "\n",
    "print(\"\\nTest y:\")\n",
    "print(df_test_y.head())\n",
    "\n",
    "# Now we can delete the temp dataframe we made earlier.\n",
    "del df_test_temp"
   ]
  },
  {
   "cell_type": "markdown",
   "metadata": {},
   "source": [
    "\n",
    "## Recap: Bayes Theorem\n",
    "\n",
    "Bayes theorem is a famous equation that allows us to make predictions based on data:\n",
    "\n",
    "$$\n",
    "P(A \\mid B) = \\frac{P(B \\mid A) P(A)}{P(B)}\n",
    "$$\n",
    "\n",
    "Specifically, we're trying to figure out the class (i.e. \"male\" or \"female\") of an observation _given_ the data\n",
    "\n",
    "$$\n",
    "p(class \\mid \\mathbf{data}) = \\frac{p(\\mathbf{data} \\mid class) * p(class)}{p(\\mathbf{data})}\n",
    "$$\n",
    "\n",
    "\n",
    "where:\n",
    "- class is a particular class (i.e. \"male\" or \"female\")\n",
    "- $\\mathbf{data}$ is an observation's data (the features)\n",
    "- $p(class \\mid \\mathbf{data})$ is called the posterior\n",
    "- $p(\\mathbf{data} \\mid class)$ is called the likelihood\n",
    "- $p(class)$ is called the prior\n",
    "- $p(\\mathbf{data})$ is called the marginal probability"
   ]
  },
  {
   "cell_type": "markdown",
   "metadata": {},
   "source": [
    "### Bayes Theorem Applied to Predicting \"Male\" or \"Female\"\n",
    "\n",
    "$$\n",
    "p(person\\:is\\:male \\mid \\mathbf{person's\\:data}) = \\frac{\n",
    "p(\\mathbf{person's\\:data}\\mid person\\:is\\:male) * p(person\\:is\\:male)\n",
    "}{\n",
    "p(\\mathbf{person's\\:data})\n",
    "}\n",
    "$$\n",
    "\n",
    "#### More Specifically:\n",
    "Let's factor in height, weight, age\n",
    "$$\n",
    "posterior(male) = \\frac{\n",
    "p(height \\mid male)\\,p(weight|male)\\,p(age \\mid male)\\,p(male)\n",
    "}{\n",
    "\\mathit{marginal\\;probability}\n",
    "}\n",
    "$$\n",
    "\n",
    "\n",
    "__Two things to note:__\n",
    "\n",
    "1. We assume each feature is uncorrelated from each other. This independence assumption of Naive Bayes is what makes it \"Naive\". This assumption may not be true in the real world but let's stick with it and see what happens.\n",
    "\n",
    "2. We assume that the value of the features (height of the women, weight of the women) are normally (gaussian) distributed. This means that $p(height \\mid female)$ is calculated by inputing the required parameters into the probability density function of the normal distribution:\n",
    "\n",
    "__WARNING__: Very mathy, but we'll just have one helper function do this for us.\n",
    "\n",
    "$$\n",
    "p(height \\mid female) = \\frac{1}{\\sqrt{2\\pi(\\text{variance of female height in data})}}\n",
    "- e^{-\\frac{\n",
    " (\\text{observation's height} - \\text{average height of females in the data})^2\n",
    "}{\n",
    "2*(\\text{variance of female height in data})\n",
    "}\n",
    "}\n",
    "$$\n",
    "\n",
    "\n"
   ]
  },
  {
   "cell_type": "code",
   "execution_count": 5,
   "metadata": {},
   "outputs": [],
   "source": [
    "def p_x_given_y(y, mean_y, variance_y):\n",
    "    \"\"\"This function calculates p(x | y)\"\"\"\n",
    "\n",
    "    # Input the arguments into a probability density function\n",
    "    p = 1/(np.sqrt(2*np.pi*variance_y)) * np.exp((-(y-mean_y)**2)/(2*variance_y))\n",
    "\n",
    "    # return p\n",
    "    return p"
   ]
  },
  {
   "cell_type": "code",
   "execution_count": 6,
   "metadata": {},
   "outputs": [
    {
     "name": "stdout",
     "output_type": "stream",
     "text": [
      "Number of males: 173\n",
      "Number of females: 207\n",
      "Total Population: 380\n"
     ]
    }
   ],
   "source": [
    "# Number of males\n",
    "n_male = df_train[\"Gender\"][df_train[\"Gender\"] == \"male\"].count()\n",
    "print(\"Number of males: {}\".format(n_male))\n",
    "\n",
    "# TODO: Get the number of females\n",
    "n_female = df_train[\"Gender\"][df_train[\"Gender\"] == \"female\"].count()\n",
    "print(\"Number of females: {}\".format(n_female))\n",
    "\n",
    "total_ppl = df_train[\"Gender\"].count()\n",
    "print(\"Total Population: {}\".format(total_ppl))"
   ]
  },
  {
   "cell_type": "code",
   "execution_count": 7,
   "metadata": {},
   "outputs": [
    {
     "name": "stdout",
     "output_type": "stream",
     "text": [
      "p(male) = 0.45526315789473687\n",
      "p(female) = 0.5447368421052632\n"
     ]
    }
   ],
   "source": [
    "# TODO: Calculate the priors p(male) and p(female) using the values above.\n",
    "# This is the ratio of males to everyone, and females to everyone respectively.\n",
    "\n",
    "p_male = n_male / total_ppl\n",
    "print(\"p(male) = {}\".format(p_male))\n",
    "\n",
    "p_female = n_female / total_ppl\n",
    "print(\"p(female) = {}\".format(p_female))"
   ]
  },
  {
   "cell_type": "code",
   "execution_count": 8,
   "metadata": {},
   "outputs": [
    {
     "data": {
      "text/html": [
       "<div>\n",
       "<style scoped>\n",
       "    .dataframe tbody tr th:only-of-type {\n",
       "        vertical-align: middle;\n",
       "    }\n",
       "\n",
       "    .dataframe tbody tr th {\n",
       "        vertical-align: top;\n",
       "    }\n",
       "\n",
       "    .dataframe thead th {\n",
       "        text-align: right;\n",
       "    }\n",
       "</style>\n",
       "<table border=\"1\" class=\"dataframe\">\n",
       "  <thead>\n",
       "    <tr style=\"text-align: right;\">\n",
       "      <th></th>\n",
       "      <th>Height</th>\n",
       "      <th>Weight</th>\n",
       "      <th>Age</th>\n",
       "    </tr>\n",
       "    <tr>\n",
       "      <th>Gender</th>\n",
       "      <th></th>\n",
       "      <th></th>\n",
       "      <th></th>\n",
       "    </tr>\n",
       "  </thead>\n",
       "  <tbody>\n",
       "    <tr>\n",
       "      <th>female</th>\n",
       "      <td>137.104113</td>\n",
       "      <td>34.440330</td>\n",
       "      <td>31.452174</td>\n",
       "    </tr>\n",
       "    <tr>\n",
       "      <th>male</th>\n",
       "      <td>145.095276</td>\n",
       "      <td>39.714644</td>\n",
       "      <td>32.237861</td>\n",
       "    </tr>\n",
       "  </tbody>\n",
       "</table>\n",
       "</div>"
      ],
      "text/plain": [
       "            Height     Weight        Age\n",
       "Gender                                  \n",
       "female  137.104113  34.440330  31.452174\n",
       "male    145.095276  39.714644  32.237861"
      ]
     },
     "execution_count": 8,
     "metadata": {},
     "output_type": "execute_result"
    }
   ],
   "source": [
    "# To use the function p_x_given_y(), we must compute the means and\n",
    "# variances for each attribute for each class.\n",
    "\n",
    "# Group the data by gender and calculate the mean of each feature\n",
    "# by gender.\n",
    "df_means = df_train.groupby(\"Gender\").mean()\n",
    "\n",
    "# View the values\n",
    "df_means.head()"
   ]
  },
  {
   "cell_type": "markdown",
   "metadata": {},
   "source": [
    "## Pandas Documentation\n",
    "Refer to [pandas docs](https://pandas.pydata.org/pandas-docs/stable/generated/pandas.DataFrame.var.html) for this next part."
   ]
  },
  {
   "cell_type": "code",
   "execution_count": 9,
   "metadata": {},
   "outputs": [
    {
     "data": {
      "text/html": [
       "<div>\n",
       "<style scoped>\n",
       "    .dataframe tbody tr th:only-of-type {\n",
       "        vertical-align: middle;\n",
       "    }\n",
       "\n",
       "    .dataframe tbody tr th {\n",
       "        vertical-align: top;\n",
       "    }\n",
       "\n",
       "    .dataframe thead th {\n",
       "        text-align: right;\n",
       "    }\n",
       "</style>\n",
       "<table border=\"1\" class=\"dataframe\">\n",
       "  <thead>\n",
       "    <tr style=\"text-align: right;\">\n",
       "      <th></th>\n",
       "      <th>Height</th>\n",
       "      <th>Weight</th>\n",
       "      <th>Age</th>\n",
       "    </tr>\n",
       "    <tr>\n",
       "      <th>Gender</th>\n",
       "      <th></th>\n",
       "      <th></th>\n",
       "      <th></th>\n",
       "    </tr>\n",
       "  </thead>\n",
       "  <tbody>\n",
       "    <tr>\n",
       "      <th>female</th>\n",
       "      <td>501.967466</td>\n",
       "      <td>156.951771</td>\n",
       "      <td>450.678527</td>\n",
       "    </tr>\n",
       "    <tr>\n",
       "      <th>male</th>\n",
       "      <td>729.129243</td>\n",
       "      <td>237.809556</td>\n",
       "      <td>452.875317</td>\n",
       "    </tr>\n",
       "  </tbody>\n",
       "</table>\n",
       "</div>"
      ],
      "text/plain": [
       "            Height      Weight         Age\n",
       "Gender                                    \n",
       "female  501.967466  156.951771  450.678527\n",
       "male    729.129243  237.809556  452.875317"
      ]
     },
     "execution_count": 9,
     "metadata": {},
     "output_type": "execute_result"
    }
   ],
   "source": [
    "# TODO: Group the data by gender and calculate the variance of each\n",
    "# feature by gender.\n",
    "df_vars = df_train.groupby(\"Gender\").var()\n",
    "\n",
    "# TODO: View the values\n",
    "df_vars.head()"
   ]
  },
  {
   "cell_type": "code",
   "execution_count": 10,
   "metadata": {},
   "outputs": [],
   "source": [
    "# Now we'll extract the mean and variance of each attribute from the\n",
    "# above two tables. It looks like a ton of code but it's really just\n",
    "# pulling from those tables.\n",
    "\n",
    "# Means for male\n",
    "male_height_mean = df_means['Height'][df_means.index == 'male'].values[0]\n",
    "male_weight_mean = df_means['Weight'][df_means.index == 'male'].values[0]\n",
    "male_age_mean = df_means['Age'][df_means.index == 'male'].values[0]\n",
    "\n",
    "# Means for female\n",
    "female_height_mean = df_means['Height'][df_means.index == 'female'].values[0]\n",
    "female_weight_mean = df_means['Weight'][df_means.index == 'female'].values[0]\n",
    "female_age_mean = df_means['Age'][df_means.index == 'female'].values[0]"
   ]
  },
  {
   "cell_type": "code",
   "execution_count": 11,
   "metadata": {},
   "outputs": [],
   "source": [
    "# TODO: Compute the variances for males and females, respectively, for\n",
    "# each attribute.\n",
    "\n",
    "# Variances for male\n",
    "male_height_var = df_vars['Height'][df_vars.index == 'male'].values[0]\n",
    "male_weight_var = df_vars['Weight'][df_vars.index == 'male'].values[0]\n",
    "male_age_var = df_vars['Age'][df_vars.index == 'male'].values[0]\n",
    "\n",
    "# Variances for female\n",
    "female_height_var = df_vars['Height'][df_vars.index == 'female'].values[0]\n",
    "female_weight_var = df_vars['Weight'][df_vars.index == 'female'].values[0]\n",
    "female_age_var = df_vars['Age'][df_vars.index == 'female'].values[0]"
   ]
  },
  {
   "cell_type": "markdown",
   "metadata": {},
   "source": [
    "## Apply Bayes Classifier to New Data Point\n",
    "\n",
    "Now, all we have to do when we get a new datapoint is extract the features out and compare which label has a higher\n",
    "probability."
   ]
  },
  {
   "cell_type": "code",
   "execution_count": 12,
   "metadata": {},
   "outputs": [
    {
     "name": "stdout",
     "output_type": "stream",
     "text": [
      "Height    67.945000\n",
      "Weight     7.966209\n",
      "Age        1.000000\n",
      "Name: 380, dtype: float64\n",
      "\n",
      "=======================\n",
      "\n",
      "\n",
      "Height\t\tWeight\tAge\n",
      "\n",
      "[67.945      7.9662095  1.       ]\n"
     ]
    }
   ],
   "source": [
    "first_X_df = df_test_X.iloc[0]\n",
    "print(first_X_df)\n",
    "print(\"\\n=======================\\n\")\n",
    "\n",
    "# Get the values out of the dataframe as a list\n",
    "first_X = first_X_df.values\n",
    "print(\"\\nHeight\\t\\tWeight\\tAge\\n\")\n",
    "print(first_X)\n",
    "\n",
    "# Unpack out the 3 fields from that list.\n",
    "height, weight, age = first_X"
   ]
  },
  {
   "cell_type": "code",
   "execution_count": 13,
   "metadata": {},
   "outputs": [
    {
     "name": "stdout",
     "output_type": "stream",
     "text": [
      "Gender    female\n",
      "Name: 380, dtype: object\n",
      "\n",
      "=======================\n",
      "\n",
      "Gender\n",
      "female\n"
     ]
    }
   ],
   "source": [
    "first_y_df = df_test_y.iloc[0]\n",
    "print(first_y_df)\n",
    "print(\"\\n=======================\\n\")\n",
    "\n",
    "\n",
    "# Get the values out of the dataframe as a list\n",
    "first_y = first_y_df.values\n",
    "print(\"Gender\")\n",
    "\n",
    "actual_y = first_y[0]\n",
    "print(actual_y)"
   ]
  },
  {
   "cell_type": "code",
   "execution_count": 14,
   "metadata": {},
   "outputs": [],
   "source": [
    "# Compute the conditional probabilities\n",
    "p_male_given_height = p_x_given_y(height, male_height_mean, male_height_var)\n",
    "p_male_given_weight = p_x_given_y(weight, male_weight_mean, male_weight_var)\n",
    "p_male_given_age = p_x_given_y(age, male_age_mean, male_age_var)\n",
    "\n",
    "\n",
    "# TODO: Compute p_female_given_height, p_female_given_weight, p_female_given_age\n",
    "p_female_given_height = p_x_given_y(height, female_height_mean, female_height_var)\n",
    "p_female_given_weight = p_x_given_y(weight, female_weight_mean, female_weight_var)\n",
    "p_female_given_age = p_x_given_y(age, female_age_mean, female_age_var)"
   ]
  },
  {
   "cell_type": "code",
   "execution_count": 15,
   "metadata": {},
   "outputs": [
    {
     "name": "stdout",
     "output_type": "stream",
     "text": [
      "p_male_given_data: 2.2519559927205e-09\n",
      "p_female_given_data: 1.8975093485306007e-09\n"
     ]
    }
   ],
   "source": [
    "# Now, we just need to compare p(male) to p(female)\n",
    "\n",
    "# TODO: Multiply out the 4 parts of the numerator here, separately for male and female\n",
    "p_male_given_data =  p_male_given_height * p_male_given_weight * p_male_given_age * p_male\n",
    "p_female_given_data = p_female_given_height * p_female_given_weight * p_female_given_age * p_female\n",
    "\n",
    "print(\"p_male_given_data: {}\".format(p_male_given_data))\n",
    "print(\"p_female_given_data: {}\".format(p_female_given_data))"
   ]
  },
  {
   "cell_type": "code",
   "execution_count": 16,
   "metadata": {},
   "outputs": [
    {
     "name": "stdout",
     "output_type": "stream",
     "text": [
      "Prediction: male\n",
      "Actual: female\n",
      "False\n"
     ]
    }
   ],
   "source": [
    "prediction = \"\"\n",
    "if p_male_given_data > p_female_given_data:\n",
    "    prediction = \"male\"\n",
    "else:\n",
    "    prediction = \"female\"\n",
    "    \n",
    "print(\"Prediction: {}\".format(prediction))\n",
    "print(\"Actual: {}\".format(actual_y))\n",
    "print(prediction == actual_y)"
   ]
  },
  {
   "cell_type": "code",
   "execution_count": 17,
   "metadata": {},
   "outputs": [
    {
     "name": "stdout",
     "output_type": "stream",
     "text": [
      "0.6196319018404908\n"
     ]
    }
   ],
   "source": [
    "# TODO: Now, write a loop that loops over all rows in df_test_X and df_test_y and\n",
    "# creates predictions like we did above, and track how many times we predict correctly.\n",
    "\n",
    "# HINT: Store \"True\" or \"False\" for whether your prediction was right in a list, then count\n",
    "# the \"True\"s and print out what percentage were correct.\n",
    "\n",
    "\n",
    "matches = []\n",
    "\n",
    "\n",
    "for idx in range(df_test_X.shape[0]):\n",
    "    feats = df_test_X.iloc[idx].values\n",
    "    height, weight, age = feats\n",
    "    actual_y = df_test_y.iloc[idx].values[0]\n",
    "    \n",
    "    # Compute the conditional probabilities for males and females\n",
    "    p_male_given_height = p_x_given_y(height, male_height_mean, male_height_var)\n",
    "    p_male_given_weight = p_x_given_y(weight, male_weight_mean, male_weight_var)\n",
    "    p_male_given_age = p_x_given_y(age, male_age_mean, male_age_var)\n",
    "\n",
    "    p_female_given_height = p_x_given_y(height, female_height_mean, female_height_var)\n",
    "    p_female_given_weight = p_x_given_y(weight, female_weight_mean, female_weight_var)\n",
    "    p_female_given_age = p_x_given_y(age, female_age_mean, female_age_var)\n",
    "    \n",
    "    p_male_given_data =  p_male_given_height * p_male_given_weight * p_male_given_age * p_male\n",
    "    p_female_given_data = p_female_given_height * p_female_given_weight * p_female_given_age * p_female\n",
    "\n",
    "    prediction = \"\"\n",
    "    if p_male_given_data > p_female_given_data:\n",
    "        prediction = \"male\"\n",
    "    else:\n",
    "        prediction = \"female\"\n",
    "\n",
    "    match = prediction == actual_y\n",
    "    # We can turn a boolean into an integer 1 if True or 0 if False using the \n",
    "    # int() function\n",
    "    match_int = int(match)\n",
    "    matches.append(match_int)\n",
    "    \n",
    "    \n",
    "print(sum(matches) / len(matches))\n",
    "    "
   ]
  }
 ],
 "metadata": {
  "kernelspec": {
   "display_name": "Python 3",
   "language": "python",
   "name": "python3"
  },
  "language_info": {
   "codemirror_mode": {
    "name": "ipython",
    "version": 3
   },
   "file_extension": ".py",
   "mimetype": "text/x-python",
   "name": "python",
   "nbconvert_exporter": "python",
   "pygments_lexer": "ipython3",
   "version": "3.6.5"
  }
 },
 "nbformat": 4,
 "nbformat_minor": 2
}
