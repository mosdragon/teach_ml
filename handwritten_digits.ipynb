{
 "cells": [
  {
   "cell_type": "markdown",
   "metadata": {},
   "source": [
    "# Classification of Handwritten Digits\n",
    "\n",
    "Example adapted from [scikit-learn docs](http://scikit-learn.org/stable/auto_examples/classification/plot_digits_classification.html)"
   ]
  },
  {
   "cell_type": "code",
   "execution_count": 17,
   "metadata": {},
   "outputs": [],
   "source": [
    "# Standard scientific Python imports\n",
    "import matplotlib.pyplot as plt\n",
    "\n",
    "# Import datasets, and performance metrics\n",
    "from sklearn import datasets, metrics\n",
    "\n",
    "# Import the Multi-Layer Perceptron Classifier. This is the model we will train.\n",
    "from sklearn.neural_network import MLPClassifier"
   ]
  },
  {
   "cell_type": "code",
   "execution_count": 18,
   "metadata": {},
   "outputs": [],
   "source": [
    "# This is a seed for the random number generator, we set this to make\n",
    "# reproducible results\n",
    "seed = 42"
   ]
  },
  {
   "cell_type": "code",
   "execution_count": 19,
   "metadata": {},
   "outputs": [],
   "source": [
    "# The handwritten digits dataset\n",
    "digits = datasets.load_digits()"
   ]
  },
  {
   "cell_type": "code",
   "execution_count": 20,
   "metadata": {},
   "outputs": [
    {
     "data": {
      "image/png": "[encoded data removed]",
      "text/plain": [
       "<Figure size 432x288 with 4 Axes>"
      ]
     },
     "metadata": {},
     "output_type": "display_data"
    }
   ],
   "source": [
    "# The data that we are interested in is made of 8x8 images of digits, let's\n",
    "# have a look at the first 4 images, stored in the `images` attribute of the\n",
    "# dataset.  If we were working from image files, we could load them using\n",
    "# matplotlib.pyplot.imread.  Note that each image must have the same size. For these\n",
    "# images, we know which digit they represent: it is given in the 'target' of\n",
    "# the dataset.\n",
    "images_and_labels = list(zip(digits.images, digits.target))\n",
    "for index, (image, label) in enumerate(images_and_labels[:4]):\n",
    "    plt.subplot(2, 4, index + 1)\n",
    "    plt.axis('off')\n",
    "    plt.imshow(image, cmap=plt.cm.gray_r, interpolation='nearest')\n",
    "    plt.title('Training: %i' % label)\n"
   ]
  },
  {
   "cell_type": "code",
   "execution_count": 22,
   "metadata": {},
   "outputs": [
    {
     "name": "stdout",
     "output_type": "stream",
     "text": [
      "[[ 0.  0.  5. 13.  9.  1.  0.  0.]\n",
      " [ 0.  0. 13. 15. 10. 15.  5.  0.]\n",
      " [ 0.  3. 15.  2.  0. 11.  8.  0.]\n",
      " [ 0.  4. 12.  0.  0.  8.  8.  0.]\n",
      " [ 0.  5.  8.  0.  0.  9.  8.  0.]\n",
      " [ 0.  4. 11.  0.  1. 12.  7.  0.]\n",
      " [ 0.  2. 14.  5. 10. 12.  0.  0.]\n",
      " [ 0.  0.  6. 13. 10.  0.  0.  0.]]\n",
      "(1797, 8, 8)\n"
     ]
    }
   ],
   "source": [
    "# Each image right now is a 20 x 20 matrix of grayscale pixel values\n",
    "# Here we print the first image's pixel values.\n",
    "print(digits.images[0])\n",
    "print(digits.images.shape)"
   ]
  },
  {
   "cell_type": "code",
   "execution_count": 23,
   "metadata": {},
   "outputs": [
    {
     "name": "stdout",
     "output_type": "stream",
     "text": [
      "1797\n",
      "(1797, 64)\n",
      "(64,)\n"
     ]
    }
   ],
   "source": [
    "# To apply a classifier on this data, we need to flatten the image, to\n",
    "# turn the data in a (samples, feature) matrix:\n",
    "n_samples = len(digits.images)\n",
    "print(n_samples)\n",
    "\n",
    "# Data is a list of vectors now, each vector is length 400, since the image dimensions are 20 x 20.\n",
    "data = digits.images.reshape((n_samples, -1))\n",
    "\n",
    "print(data.shape)\n",
    "\n",
    "print(data[0].shape)"
   ]
  },
  {
   "cell_type": "code",
   "execution_count": 7,
   "metadata": {},
   "outputs": [
    {
     "name": "stdout",
     "output_type": "stream",
     "text": [
      "1257\n",
      "540\n"
     ]
    }
   ],
   "source": [
    "# We need to now create our test and train splits\n",
    "\n",
    "# We'll train on 70% of our data\n",
    "train_size = int(n_samples * 0.70)\n",
    "train_X = data[:train_size]\n",
    "train_y = digits.target[:train_size]\n",
    "print(len(train_X))\n",
    "\n",
    "# The remaining samples are for our test set\n",
    "test_size = n_samples - train_size\n",
    "test_X = data[train_size:]\n",
    "test_y = digits.target[train_size:]\n",
    "print(len(test_X))\n",
    "\n",
    "assert n_samples == (len(test_X) + len(train_X))"
   ]
  },
  {
   "cell_type": "markdown",
   "metadata": {},
   "source": [
    "### MLP: Multi-layer Perceptron Classifier\n",
    "Read the [Docs](http://scikit-learn.org/stable/modules/generated/sklearn.neural_network.MLPClassifier.html#sklearn.neural_network.MLPClassifier)"
   ]
  },
  {
   "cell_type": "code",
   "execution_count": 8,
   "metadata": {},
   "outputs": [],
   "source": [
    "# Now, we initialize a classifier object and fit it to our training set\n",
    "# TODO: Look at docs and add additional params here to try to increase\n",
    "# accuracy after you go through the demo end-to-end.\n",
    "classifier = MLPClassifier(random_state=seed)"
   ]
  },
  {
   "cell_type": "code",
   "execution_count": 10,
   "metadata": {},
   "outputs": [
    {
     "data": {
      "text/plain": [
       "MLPClassifier(activation='relu', alpha=0.0001, batch_size='auto', beta_1=0.9,\n",
       "       beta_2=0.999, early_stopping=False, epsilon=1e-08,\n",
       "       hidden_layer_sizes=(100,), learning_rate='constant',\n",
       "       learning_rate_init=0.001, max_iter=200, momentum=0.9,\n",
       "       nesterovs_momentum=True, power_t=0.5, random_state=42, shuffle=True,\n",
       "       solver='adam', tol=0.0001, validation_fraction=0.1, verbose=False,\n",
       "       warm_start=False)"
      ]
     },
     "execution_count": 10,
     "metadata": {},
     "output_type": "execute_result"
    }
   ],
   "source": [
    "# This fit() function is how we train the classifier\n",
    "classifier.fit(train_X, train_y)"
   ]
  },
  {
   "cell_type": "code",
   "execution_count": 11,
   "metadata": {},
   "outputs": [
    {
     "name": "stdout",
     "output_type": "stream",
     "text": [
      "==================== AFTER TRAINING ====================\n",
      "Train Error: 1.0\n",
      "Test Error: 0.9351851851851852\n"
     ]
    }
   ],
   "source": [
    "# Now that we've finished training, get the test and train errors.\n",
    "print(\"==================== AFTER TRAINING ====================\")\n",
    "\n",
    "train_error = classifier.score(train_X, train_y)\n",
    "print(\"Train Error: {}\".format(train_error))\n",
    "\n",
    "test_error = classifier.score(test_X, test_y)\n",
    "print(\"Test Error: {}\".format(test_error))"
   ]
  },
  {
   "cell_type": "code",
   "execution_count": 12,
   "metadata": {},
   "outputs": [],
   "source": [
    "# Allow the classifier to make predictions on the test set using only the \n",
    "# features, not the labels\n",
    "predicted = classifier.predict(test_X)"
   ]
  },
  {
   "cell_type": "code",
   "execution_count": 13,
   "metadata": {},
   "outputs": [
    {
     "name": "stdout",
     "output_type": "stream",
     "text": [
      "Classification report for classifier MLPClassifier(activation='relu', alpha=0.0001, batch_size='auto', beta_1=0.9,\n",
      "       beta_2=0.999, early_stopping=False, epsilon=1e-08,\n",
      "       hidden_layer_sizes=(100,), learning_rate='constant',\n",
      "       learning_rate_init=0.001, max_iter=200, momentum=0.9,\n",
      "       nesterovs_momentum=True, power_t=0.5, random_state=42, shuffle=True,\n",
      "       solver='adam', tol=0.0001, validation_fraction=0.1, verbose=False,\n",
      "       warm_start=False):\n",
      "             precision    recall  f1-score   support\n",
      "\n",
      "          0       0.93      0.96      0.94        53\n",
      "          1       0.98      0.91      0.94        53\n",
      "          2       1.00      0.98      0.99        53\n",
      "          3       0.96      0.85      0.90        53\n",
      "          4       0.95      0.91      0.93        57\n",
      "          5       0.93      0.98      0.96        56\n",
      "          6       0.93      1.00      0.96        54\n",
      "          7       0.94      0.93      0.93        54\n",
      "          8       0.88      0.88      0.88        52\n",
      "          9       0.87      0.95      0.90        55\n",
      "\n",
      "avg / total       0.94      0.94      0.94       540\n",
      "\n",
      "\n"
     ]
    }
   ],
   "source": [
    "# TODO: Look up what precision, recall, and f1-score are.\n",
    "# Explain why recall for 3 and 8 might be so low.\n",
    "print(\"Classification report for classifier %s:\\n%s\\n\"\n",
    "      % (classifier, metrics.classification_report(test_y, predicted)))"
   ]
  },
  {
   "cell_type": "code",
   "execution_count": 14,
   "metadata": {},
   "outputs": [
    {
     "name": "stdout",
     "output_type": "stream",
     "text": [
      "Confusion matrix:\n",
      "[[51  0  0  0  1  0  1  0  0  0]\n",
      " [ 2 48  0  1  0  0  0  0  0  2]\n",
      " [ 0  0 52  1  0  0  0  0  0  0]\n",
      " [ 0  0  0 45  0  2  0  1  5  0]\n",
      " [ 0  0  0  0 52  0  2  2  0  1]\n",
      " [ 0  0  0  0  0 55  1  0  0  0]\n",
      " [ 0  0  0  0  0  0 54  0  0  0]\n",
      " [ 0  0  0  0  0  0  0 50  0  4]\n",
      " [ 1  1  0  0  2  1  0  0 46  1]\n",
      " [ 1  0  0  0  0  1  0  0  1 52]]\n"
     ]
    }
   ],
   "source": [
    "# TODO: Try to interpret what this might be.\n",
    "print(\"Confusion matrix:\\n%s\" % metrics.confusion_matrix(test_y, predicted))"
   ]
  },
  {
   "cell_type": "code",
   "execution_count": 15,
   "metadata": {},
   "outputs": [
    {
     "data": {
      "image/png": "[encoded data removed]",
      "text/plain": [
       "<Figure size 432x288 with 4 Axes>"
      ]
     },
     "metadata": {},
     "output_type": "display_data"
    }
   ],
   "source": [
    "# It's nice to see visual representation of the results\n",
    "images_and_predictions = list(zip(digits.images[train_size:], predicted))\n",
    "for index, (image, prediction) in enumerate(images_and_predictions[:4]):\n",
    "    plt.subplot(2, 4, index + 5)\n",
    "    plt.axis('off')\n",
    "    plt.imshow(image, cmap=plt.cm.gray_r, interpolation='nearest')\n",
    "    plt.title('Prediction: %i' % prediction)"
   ]
  },
  {
   "cell_type": "code",
   "execution_count": 16,
   "metadata": {},
   "outputs": [],
   "source": [
    "# If you're running this outside of Jupyter notebook,\n",
    "# uncomment this next line.\n",
    "# plt.show()"
   ]
  },
  {
   "cell_type": "code",
   "execution_count": null,
   "metadata": {},
   "outputs": [],
   "source": []
  }
 ],
 "metadata": {
  "kernelspec": {
   "display_name": "Python 3",
   "language": "python",
   "name": "python3"
  },
  "language_info": {
   "codemirror_mode": {
    "name": "ipython",
    "version": 3
   },
   "file_extension": ".py",
   "mimetype": "text/x-python",
   "name": "python",
   "nbconvert_exporter": "python",
   "pygments_lexer": "ipython3",
   "version": "3.6.5"
  }
 },
 "nbformat": 4,
 "nbformat_minor": 2
}
