{
 "cells": [
  {
   "cell_type": "markdown",
   "metadata": {},
   "source": [
    "# Step-By-Step Tutorial Using Scikit-Learn, Pandas\n",
    "\n",
    "We'll go through a classic Machine Learning example in this notebook and break down what each step of the process is like.\n",
    "\n",
    "We'll start with a classic dataset known as the __Iris__ dataset. Take a look at what it looks like [here](https://github.com/pandas-dev/pandas/blob/master/pandas/tests/data/iris.csv).\n",
    "\n",
    "About the dataset:\n",
    "\n",
    "- 3 possible labels for the plant: `Iris-setosa, Iris-virginica, Iris-versicolor`\n",
    "- 4 features:\n",
    "    - `SepalLength`: float\n",
    "    - `SepalWidth`: float\n",
    "    - `PetalLength`: float\n",
    "    - `PetalWidth`: float\n",
    "- Problem: Given the 4 features, can we classify which of the 3 possible plants it is?"
   ]
  },
  {
   "cell_type": "markdown",
   "metadata": {},
   "source": [
    "### Setup\n",
    "\n",
    "You'll need several libraries. Install each with `sudo pip3 install <library>` if you haven't already installed it\n",
    "\n",
    "- pandas\n",
    "- scikit-learn\n",
    "- numpy\n",
    "- matplotlib\n",
    "- seaborn (We didn't install this before)"
   ]
  },
  {
   "cell_type": "code",
   "execution_count": 1,
   "metadata": {},
   "outputs": [],
   "source": [
    "# Numerical library in python, gives us nice things like special kinds of arrays,\n",
    "# useful math functions, random numbers, etc.\n",
    "import numpy as np\n",
    "\n",
    "# Pandas library gives us Series data and DataFrames, which are two really useful ways\n",
    "# of representing data. Using pandas, we can easily filter, sort, or extract data.\n",
    "# Very easy to convert this data into native numpy or native Python objects.\n",
    "import pandas as pd\n",
    "\n",
    "# Matplotlib is a standard library used in Data Science,\n",
    "# especially pyplot\n",
    "import matplotlib.pyplot as plt\n",
    "\n",
    "\n",
    "# Seaborn library for visualizations.\n",
    "import seaborn as sns\n",
    "\n",
    "# Scikit-learn includes everything we need to take our data and run Supervised Learning\n",
    "# or Unsupervised Learning algorithms on it.\n",
    "import sklearn\n",
    "\n",
    "# Import our Naive Bayes Classifier\n",
    "from sklearn.naive_bayes import GaussianNB\n",
    "\n",
    "# Import our Neural Network Classifier (Multi-Layer Perceptron Classifier)\n",
    "from sklearn.neural_network import MLPClassifier\n",
    "\n",
    "# Import our KNN Classifier\n",
    "from sklearn.neighbors import KNeighborsClassifier\n",
    "\n",
    "# Import our Decision Tree Classifier\n",
    "from sklearn.tree import DecisionTreeClassifier\n",
    "\n",
    "# Import our Random Forest Classifier\n",
    "from sklearn.ensemble import RandomForestClassifier\n",
    "\n",
    "# Import our Support Vector Machine Classifier\n",
    "from sklearn.svm import SVC\n",
    "\n",
    "# We'll use this at the end for evaluating our models\n",
    "from sklearn.metrics import confusion_matrix"
   ]
  },
  {
   "cell_type": "code",
   "execution_count": 2,
   "metadata": {},
   "outputs": [],
   "source": [
    "# Let's create a random seed. We'll use it for reproducibility later.\n",
    "seed = 42"
   ]
  },
  {
   "cell_type": "code",
   "execution_count": 3,
   "metadata": {},
   "outputs": [],
   "source": [
    "# Instead of saving this CSV locally, we'll pull it from the URL directly\n",
    "dataset_url = \"https://raw.githubusercontent.com/pandas-dev/pandas/master/pandas/tests/data/iris.csv\"\n",
    "\n",
    "# Read in the CSV as a DataFrame object in pandas, call it df. This is ALL the data\n",
    "# we have, so we need to split it into test and training sets.\n",
    "df = pd.read_csv(dataset_url)"
   ]
  },
  {
   "cell_type": "code",
   "execution_count": 4,
   "metadata": {},
   "outputs": [
    {
     "data": {
      "text/html": [
       "<div>\n",
       "<style scoped>\n",
       "    .dataframe tbody tr th:only-of-type {\n",
       "        vertical-align: middle;\n",
       "    }\n",
       "\n",
       "    .dataframe tbody tr th {\n",
       "        vertical-align: top;\n",
       "    }\n",
       "\n",
       "    .dataframe thead th {\n",
       "        text-align: right;\n",
       "    }\n",
       "</style>\n",
       "<table border=\"1\" class=\"dataframe\">\n",
       "  <thead>\n",
       "    <tr style=\"text-align: right;\">\n",
       "      <th></th>\n",
       "      <th>SepalLength</th>\n",
       "      <th>SepalWidth</th>\n",
       "      <th>PetalLength</th>\n",
       "      <th>PetalWidth</th>\n",
       "      <th>Name</th>\n",
       "    </tr>\n",
       "  </thead>\n",
       "  <tbody>\n",
       "    <tr>\n",
       "      <th>0</th>\n",
       "      <td>5.1</td>\n",
       "      <td>3.5</td>\n",
       "      <td>1.4</td>\n",
       "      <td>0.2</td>\n",
       "      <td>Iris-setosa</td>\n",
       "    </tr>\n",
       "    <tr>\n",
       "      <th>1</th>\n",
       "      <td>4.9</td>\n",
       "      <td>3.0</td>\n",
       "      <td>1.4</td>\n",
       "      <td>0.2</td>\n",
       "      <td>Iris-setosa</td>\n",
       "    </tr>\n",
       "    <tr>\n",
       "      <th>2</th>\n",
       "      <td>4.7</td>\n",
       "      <td>3.2</td>\n",
       "      <td>1.3</td>\n",
       "      <td>0.2</td>\n",
       "      <td>Iris-setosa</td>\n",
       "    </tr>\n",
       "    <tr>\n",
       "      <th>3</th>\n",
       "      <td>4.6</td>\n",
       "      <td>3.1</td>\n",
       "      <td>1.5</td>\n",
       "      <td>0.2</td>\n",
       "      <td>Iris-setosa</td>\n",
       "    </tr>\n",
       "    <tr>\n",
       "      <th>4</th>\n",
       "      <td>5.0</td>\n",
       "      <td>3.6</td>\n",
       "      <td>1.4</td>\n",
       "      <td>0.2</td>\n",
       "      <td>Iris-setosa</td>\n",
       "    </tr>\n",
       "  </tbody>\n",
       "</table>\n",
       "</div>"
      ],
      "text/plain": [
       "   SepalLength  SepalWidth  PetalLength  PetalWidth         Name\n",
       "0          5.1         3.5          1.4         0.2  Iris-setosa\n",
       "1          4.9         3.0          1.4         0.2  Iris-setosa\n",
       "2          4.7         3.2          1.3         0.2  Iris-setosa\n",
       "3          4.6         3.1          1.5         0.2  Iris-setosa\n",
       "4          5.0         3.6          1.4         0.2  Iris-setosa"
      ]
     },
     "execution_count": 4,
     "metadata": {},
     "output_type": "execute_result"
    }
   ],
   "source": [
    "# We can see the first 5 elements like this\n",
    "df.head()"
   ]
  },
  {
   "cell_type": "code",
   "execution_count": 5,
   "metadata": {},
   "outputs": [
    {
     "data": {
      "text/html": [
       "<div>\n",
       "<style scoped>\n",
       "    .dataframe tbody tr th:only-of-type {\n",
       "        vertical-align: middle;\n",
       "    }\n",
       "\n",
       "    .dataframe tbody tr th {\n",
       "        vertical-align: top;\n",
       "    }\n",
       "\n",
       "    .dataframe thead th {\n",
       "        text-align: right;\n",
       "    }\n",
       "</style>\n",
       "<table border=\"1\" class=\"dataframe\">\n",
       "  <thead>\n",
       "    <tr style=\"text-align: right;\">\n",
       "      <th></th>\n",
       "      <th>SepalLength</th>\n",
       "      <th>SepalWidth</th>\n",
       "      <th>PetalLength</th>\n",
       "      <th>PetalWidth</th>\n",
       "    </tr>\n",
       "  </thead>\n",
       "  <tbody>\n",
       "    <tr>\n",
       "      <th>count</th>\n",
       "      <td>150.000000</td>\n",
       "      <td>150.000000</td>\n",
       "      <td>150.000000</td>\n",
       "      <td>150.000000</td>\n",
       "    </tr>\n",
       "    <tr>\n",
       "      <th>mean</th>\n",
       "      <td>5.843333</td>\n",
       "      <td>3.054000</td>\n",
       "      <td>3.758667</td>\n",
       "      <td>1.198667</td>\n",
       "    </tr>\n",
       "    <tr>\n",
       "      <th>std</th>\n",
       "      <td>0.828066</td>\n",
       "      <td>0.433594</td>\n",
       "      <td>1.764420</td>\n",
       "      <td>0.763161</td>\n",
       "    </tr>\n",
       "    <tr>\n",
       "      <th>min</th>\n",
       "      <td>4.300000</td>\n",
       "      <td>2.000000</td>\n",
       "      <td>1.000000</td>\n",
       "      <td>0.100000</td>\n",
       "    </tr>\n",
       "    <tr>\n",
       "      <th>25%</th>\n",
       "      <td>5.100000</td>\n",
       "      <td>2.800000</td>\n",
       "      <td>1.600000</td>\n",
       "      <td>0.300000</td>\n",
       "    </tr>\n",
       "    <tr>\n",
       "      <th>50%</th>\n",
       "      <td>5.800000</td>\n",
       "      <td>3.000000</td>\n",
       "      <td>4.350000</td>\n",
       "      <td>1.300000</td>\n",
       "    </tr>\n",
       "    <tr>\n",
       "      <th>75%</th>\n",
       "      <td>6.400000</td>\n",
       "      <td>3.300000</td>\n",
       "      <td>5.100000</td>\n",
       "      <td>1.800000</td>\n",
       "    </tr>\n",
       "    <tr>\n",
       "      <th>max</th>\n",
       "      <td>7.900000</td>\n",
       "      <td>4.400000</td>\n",
       "      <td>6.900000</td>\n",
       "      <td>2.500000</td>\n",
       "    </tr>\n",
       "  </tbody>\n",
       "</table>\n",
       "</div>"
      ],
      "text/plain": [
       "       SepalLength  SepalWidth  PetalLength  PetalWidth\n",
       "count   150.000000  150.000000   150.000000  150.000000\n",
       "mean      5.843333    3.054000     3.758667    1.198667\n",
       "std       0.828066    0.433594     1.764420    0.763161\n",
       "min       4.300000    2.000000     1.000000    0.100000\n",
       "25%       5.100000    2.800000     1.600000    0.300000\n",
       "50%       5.800000    3.000000     4.350000    1.300000\n",
       "75%       6.400000    3.300000     5.100000    1.800000\n",
       "max       7.900000    4.400000     6.900000    2.500000"
      ]
     },
     "execution_count": 5,
     "metadata": {},
     "output_type": "execute_result"
    }
   ],
   "source": [
    "# And we can see metrics on each attribute like this\n",
    "df.describe()"
   ]
  },
  {
   "cell_type": "markdown",
   "metadata": {},
   "source": [
    "## Step 1: Visualization\n",
    "\n",
    "Typically when we get a dataset, it helps to create some visualizations to make sense of what's going on. Let's do some visualizations with the entire Iris dataset, not just the train/test sets."
   ]
  },
  {
   "cell_type": "markdown",
   "metadata": {},
   "source": [
    "#### Using Seaborn and Matplotlib Visualizations\n",
    "Jupyter notebooks allow us to keep visualizations in-line in our notebook.\n",
    "\n",
    "To enable these, we simply do `%matplotlib inline` in one cell in your notebook and it'll apply automatically to every cell in the notebook after that."
   ]
  },
  {
   "cell_type": "code",
   "execution_count": 6,
   "metadata": {},
   "outputs": [
    {
     "data": {
      "text/plain": [
       "<seaborn.axisgrid.PairGrid at 0x1090d0668>"
      ]
     },
     "execution_count": 6,
     "metadata": {},
     "output_type": "execute_result"
    },
    {
     "data": {
      "image/png": "[encoded data removed]",
      "text/plain": [
       "<Figure size 537.225x432 with 20 Axes>"
      ]
     },
     "metadata": {},
     "output_type": "display_data"
    }
   ],
   "source": [
    "%matplotlib inline\n",
    "sns.set()\n",
    "sns.pairplot(df, hue=\"Name\", height=1.5)"
   ]
  },
  {
   "cell_type": "markdown",
   "metadata": {},
   "source": [
    "Notice from the visualization above that the different classes seem to be pretty distinguishable on each pair of features.\n",
    "\n",
    "Imagine trying to draw a line on these plots that separates the boundary between one class and another. Can it be done?\n",
    "\n",
    "__HINT:__ YES! It can."
   ]
  },
  {
   "cell_type": "markdown",
   "metadata": {},
   "source": [
    "## Step 2: Separate Out Features From Labels\n",
    "\n",
    "Machine Learning algorithms expect the features (usually referred to as __X__ ) to be separated from the labels, usually referred to as `y`).\n",
    "\n",
    "\n",
    "<img src=\"https://github.com/jakevdp/PythonDataScienceHandbook/raw/599aa0fe3f882c0001670e676e5a8d43b92c35fc/notebooks/figures/05.02-samples-features.png\" />\n",
    "\n",
    "<center>\n",
    "    <strong>Figure 1:</strong> This is how Scikit-Learn wants your data to look like\n",
    "</center>\n",
    "\n",
    "Luckily, DataFrames work much like Excel, so we can just filter out the `Name` column out of the features and create a separate DataFrame for just that."
   ]
  },
  {
   "cell_type": "code",
   "execution_count": 7,
   "metadata": {},
   "outputs": [
    {
     "name": "stdout",
     "output_type": "stream",
     "text": [
      "We have 150 samples\n",
      "Each sample has 4 features\n"
     ]
    },
    {
     "data": {
      "text/html": [
       "<div>\n",
       "<style scoped>\n",
       "    .dataframe tbody tr th:only-of-type {\n",
       "        vertical-align: middle;\n",
       "    }\n",
       "\n",
       "    .dataframe tbody tr th {\n",
       "        vertical-align: top;\n",
       "    }\n",
       "\n",
       "    .dataframe thead th {\n",
       "        text-align: right;\n",
       "    }\n",
       "</style>\n",
       "<table border=\"1\" class=\"dataframe\">\n",
       "  <thead>\n",
       "    <tr style=\"text-align: right;\">\n",
       "      <th></th>\n",
       "      <th>SepalLength</th>\n",
       "      <th>SepalWidth</th>\n",
       "      <th>PetalLength</th>\n",
       "      <th>PetalWidth</th>\n",
       "    </tr>\n",
       "  </thead>\n",
       "  <tbody>\n",
       "    <tr>\n",
       "      <th>0</th>\n",
       "      <td>5.1</td>\n",
       "      <td>3.5</td>\n",
       "      <td>1.4</td>\n",
       "      <td>0.2</td>\n",
       "    </tr>\n",
       "    <tr>\n",
       "      <th>1</th>\n",
       "      <td>4.9</td>\n",
       "      <td>3.0</td>\n",
       "      <td>1.4</td>\n",
       "      <td>0.2</td>\n",
       "    </tr>\n",
       "    <tr>\n",
       "      <th>2</th>\n",
       "      <td>4.7</td>\n",
       "      <td>3.2</td>\n",
       "      <td>1.3</td>\n",
       "      <td>0.2</td>\n",
       "    </tr>\n",
       "    <tr>\n",
       "      <th>3</th>\n",
       "      <td>4.6</td>\n",
       "      <td>3.1</td>\n",
       "      <td>1.5</td>\n",
       "      <td>0.2</td>\n",
       "    </tr>\n",
       "    <tr>\n",
       "      <th>4</th>\n",
       "      <td>5.0</td>\n",
       "      <td>3.6</td>\n",
       "      <td>1.4</td>\n",
       "      <td>0.2</td>\n",
       "    </tr>\n",
       "  </tbody>\n",
       "</table>\n",
       "</div>"
      ],
      "text/plain": [
       "   SepalLength  SepalWidth  PetalLength  PetalWidth\n",
       "0          5.1         3.5          1.4         0.2\n",
       "1          4.9         3.0          1.4         0.2\n",
       "2          4.7         3.2          1.3         0.2\n",
       "3          4.6         3.1          1.5         0.2\n",
       "4          5.0         3.6          1.4         0.2"
      ]
     },
     "execution_count": 7,
     "metadata": {},
     "output_type": "execute_result"
    }
   ],
   "source": [
    "# axis=1 is to indicate we're dropping a column. Default behavior is\n",
    "# axis=0, which means we'd be trying to drop a row nicknamed \"Name\"\n",
    "# which we don't even have.\n",
    "df_X = df.drop(\"Name\", axis=1)\n",
    "\n",
    "n_samples, n_features = df_X.shape\n",
    "\n",
    "# Here we can use string formatting to format what we print out\n",
    "# See if you can understand how this works.\n",
    "print(\"We have {} samples\".format(n_samples))\n",
    "print(\"Each sample has {} features\".format(n_features))\n",
    "\n",
    "# Do .head() on the df_X to verify it looks how you expect it to.\n",
    "df_X.head()"
   ]
  },
  {
   "cell_type": "code",
   "execution_count": 8,
   "metadata": {},
   "outputs": [
    {
     "data": {
      "text/plain": [
       "0    Iris-setosa\n",
       "1    Iris-setosa\n",
       "2    Iris-setosa\n",
       "3    Iris-setosa\n",
       "4    Iris-setosa\n",
       "Name: Name, dtype: object"
      ]
     },
     "execution_count": 8,
     "metadata": {},
     "output_type": "execute_result"
    }
   ],
   "source": [
    "# Now we can create df_y, which is just the column \"Name\"\n",
    "df_y = df[\"Name\"]\n",
    "\n",
    "# Use .head() again to verify it looks right\n",
    "df_y.head()"
   ]
  },
  {
   "cell_type": "markdown",
   "metadata": {},
   "source": [
    "## Step 3: Create Test/Train Splits\n",
    "\n",
    "Right now we have ALL of our features in `df_X` and ALL of our labels in `df_y`. We want to split those out into test and training sets.\n",
    "\n",
    "__Training set__: The set of data our Machine Learning models will train on. The models will have access to both the features as well as the labels so they can learn to predict as accurately as possible on the training set.\n",
    "\n",
    "__Test set__: This is the set of data the model will evaluate on. The model will get the features (in the real-world, this is what is __known__ ) but the labels will NOT be known to the model. This set will be treated as __new__ data for the model, so it won't be training to this data, it'll just spit out a label for the attributes you provide."
   ]
  },
  {
   "cell_type": "code",
   "execution_count": 9,
   "metadata": {},
   "outputs": [],
   "source": [
    "from sklearn.model_selection import train_test_split\n",
    "\n",
    "# For now, we'll use a helper function built-in to scikit-learn to\n",
    "# split our data into a 70-30 split, with 70% going to our training set.\n",
    "train_X, test_X, train_y, test_y = train_test_split(df_X, df_y,\n",
    "                                                    test_size=0.3,\n",
    "                                                    random_state=seed)\n",
    "\n",
    "# NOTE: We did this by hand in the past two days, make sure you\n",
    "# understand the logic of how we did so before."
   ]
  },
  {
   "cell_type": "markdown",
   "metadata": {},
   "source": [
    "## Step 4: Create an Estimator (Supervised Learning Model)\n",
    "\n",
    "Scikit-learn is really nice because of the API (Application Programming Interface) each Estimator (Model) gives us:\n",
    "\n",
    "- Training: `model.fit(train_X, train_y)` is how we train a model\n",
    "- Prediction: `model.predict(X)` is how we obtain the predictions for our matrix X. You can have predictions for `train_X` or `test_X`\n",
    "- Accuracy: `model.score(X, y)` is how we determine how accurate our model is on a given set of data. For example, we would use this function with `test_X` and `test_y` to determine our model's test accuracy.\n"
   ]
  },
  {
   "cell_type": "code",
   "execution_count": 10,
   "metadata": {},
   "outputs": [
    {
     "name": "stdout",
     "output_type": "stream",
     "text": [
      "Train Accuracy: 97.1%\n",
      "Test Accuracy: 100.0%\n"
     ]
    },
    {
     "name": "stderr",
     "output_type": "stream",
     "text": [
      "/usr/local/lib/python3.6/site-packages/sklearn/neural_network/multilayer_perceptron.py:564: ConvergenceWarning: Stochastic Optimizer: Maximum iterations (200) reached and the optimization hasn't converged yet.\n",
      "  % self.max_iter, ConvergenceWarning)\n"
     ]
    }
   ],
   "source": [
    "# Let's start off with a Neural Network model\n",
    "nn_model = MLPClassifier(random_state=seed)\n",
    "nn_model.fit(train_X, train_y)\n",
    "\n",
    "# Now get our training and test accuracy\n",
    "train_acc = nn_model.score(train_X, train_y)\n",
    "test_acc = nn_model.score(test_X, test_y)\n",
    "\n",
    "# Format it to look a bit prettier -- a percentage\n",
    "print(\"Train Accuracy: {:.1f}%\".format(train_acc * 100))\n",
    "print(\"Test Accuracy: {:.1f}%\".format(test_acc * 100))"
   ]
  },
  {
   "cell_type": "code",
   "execution_count": 11,
   "metadata": {},
   "outputs": [
    {
     "name": "stdout",
     "output_type": "stream",
     "text": [
      "Train Accuracy: 94.3%\n",
      "Test Accuracy: 97.8%\n"
     ]
    }
   ],
   "source": [
    "# Now let's try using Naive Bayes\n",
    "nb_model = GaussianNB()  # This model doesn't use random_state at all\n",
    "nb_model.fit(train_X, train_y)\n",
    "\n",
    "# Now get our training and test accuracy\n",
    "train_acc = nb_model.score(train_X, train_y)\n",
    "test_acc = nb_model.score(test_X, test_y)\n",
    "\n",
    "# Format it to look a bit prettier -- a percentage\n",
    "print(\"Train Accuracy: {:.1f}%\".format(train_acc * 100))\n",
    "print(\"Test Accuracy: {:.1f}%\".format(test_acc * 100))"
   ]
  },
  {
   "cell_type": "markdown",
   "metadata": {},
   "source": [
    "### TODO\n",
    "You should use each of the following classifiers and build, train, and evaluate models out of them. Use `random_state=seed` wherever possible.\n",
    "\n",
    "- `KNeighborsClassifier` -- call it `knn_model`\n",
    "- `DecisionTreeClassifier` -- call it `dt_model`\n",
    "- `RandomForestClassifier` -- call it `rf_model`\n",
    "- `SVC` -- call it `svm_model`"
   ]
  },
  {
   "cell_type": "markdown",
   "metadata": {},
   "source": [
    "## Step 5: Evaluation\n",
    "Aside from evaluating just accuracy, we can use many other means to evaluate how well our model performed.\n",
    "\n",
    "One way we can evaluate the model is by using a [confusion matrix](https://www.dataschool.io/simple-guide-to-confusion-matrix-terminology/)."
   ]
  },
  {
   "cell_type": "code",
   "execution_count": 12,
   "metadata": {},
   "outputs": [
    {
     "data": {
      "image/png": "[encoded data removed]",
      "text/plain": [
       "<Figure size 432x288 with 1 Axes>"
      ]
     },
     "metadata": {},
     "output_type": "display_data"
    }
   ],
   "source": [
    "# First get our predictions on the test set.\n",
    "nn_y_predictions = nn_model.predict(test_X)\n",
    "\n",
    "# Now use those and test_y to create the confusion matrix\n",
    "nn_confusion_matrix = confusion_matrix(test_y, nn_y_predictions)\n",
    "\n",
    "# Finally, plot it using seaborn. A heatmap is a nice way to show this\n",
    "sns.heatmap(nn_confusion_matrix, square=True, annot=True, cbar=False)\n",
    "plt.xlabel('Predicted label')\n",
    "plt.ylabel('Actual label');"
   ]
  },
  {
   "cell_type": "code",
   "execution_count": 13,
   "metadata": {},
   "outputs": [
    {
     "data": {
      "image/png": "[encoded data removed]",
      "text/plain": [
       "<Figure size 432x288 with 1 Axes>"
      ]
     },
     "metadata": {},
     "output_type": "display_data"
    }
   ],
   "source": [
    "# Let's do the same thing using our Naive Bayes model to compare\n",
    "# First get our predictions on the test set.\n",
    "naive_bayes_y_predictions = nb_model.predict(test_X)\n",
    "\n",
    "# Now use those and test_y to create the confusion matrix\n",
    "naive_bayes_confusion_matrix = confusion_matrix(test_y, naive_bayes_y_predictions)\n",
    "\n",
    "# Finally, plot it using seaborn. A heatmap is a nice way to show this\n",
    "sns.heatmap(naive_bayes_confusion_matrix, square=True, annot=True, cbar=False)\n",
    "plt.xlabel('Predicted label')\n",
    "plt.ylabel('Actual label');"
   ]
  },
  {
   "cell_type": "code",
   "execution_count": null,
   "metadata": {},
   "outputs": [],
   "source": []
  }
 ],
 "metadata": {
  "kernelspec": {
   "display_name": "Python 3",
   "language": "python",
   "name": "python3"
  },
  "language_info": {
   "codemirror_mode": {
    "name": "ipython",
    "version": 3
   },
   "file_extension": ".py",
   "mimetype": "text/x-python",
   "name": "python",
   "nbconvert_exporter": "python",
   "pygments_lexer": "ipython3",
   "version": "3.6.5"
  }
 },
 "nbformat": 4,
 "nbformat_minor": 2
}
