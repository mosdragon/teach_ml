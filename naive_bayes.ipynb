{
 "cells": [
  {
   "cell_type": "markdown",
   "metadata": {},
   "source": [
    "# Naive Bayes Classifier By Hand\n",
    "\n",
    "We're going to create our own Naive Bayes classifier to classify if the given information about a person's height, weight, and age indicate that this person is male or female.\n",
    "\n",
    "For this, we'll use a custom dataset called `people.csv`, which you'll find in the `datasets/` folder."
   ]
  },
  {
   "cell_type": "code",
   "execution_count": null,
   "metadata": {},
   "outputs": [],
   "source": [
    "# Standard scientific Python imports\n",
    "import matplotlib.pyplot as plt\n",
    "\n",
    "# This gives us dataframes which will allow us to build our custom\n",
    "# Naive Bayes Classifier\n",
    "import pandas as pd\n",
    "\n",
    "# Standard numeric library that gives us optimized arrays and vectors\n",
    "import numpy as np"
   ]
  },
  {
   "cell_type": "code",
   "execution_count": null,
   "metadata": {},
   "outputs": [],
   "source": [
    "dataset = \"datasets/people.csv\"\n",
    "\n",
    "# We can read in a properly formatted CSV using this helper function.\n",
    "# This reads it in as a pandas dataframe object, which gives us a lot\n",
    "# of the same functionality we get in Excel like filtering, sorting, etc\n",
    "df = pd.read_csv(dataset)\n",
    "\n",
    "# This head() function gives us the first 5 items, which Jupyter notebook\n",
    "# formats nicely for us.\n",
    "df.head()"
   ]
  },
  {
   "cell_type": "markdown",
   "metadata": {},
   "source": [
    "####  Training Set and Test Set\n",
    "\n",
    "Now, we're going to split our dataset up into test and training. We want 70% of our data to go for testing, 30% for testing.\n"
   ]
  },
  {
   "cell_type": "code",
   "execution_count": null,
   "metadata": {},
   "outputs": [],
   "source": [
    "# This is how many examples we have.\n",
    "n_samples = df.shape[0]\n",
    "print(n_samples)\n",
    "\n",
    "# TODO: Compute train_size and test_size\n",
    "train_size = 0\n",
    "test_size = 0\n",
    "\n",
    "print(\"Training set size: {}\".format(train_size))\n",
    "print(\"Test set size: {}\".format(test_size))\n"
   ]
  },
  {
   "cell_type": "code",
   "execution_count": null,
   "metadata": {},
   "outputs": [],
   "source": [
    "# Create our test and train sets\n",
    "\n",
    "# NOTE: This training set is a dataframe that includes both X and y.\n",
    "# Our Naive Bayes classifier needs our training set to be like this, unlike scikit-learn's NB\n",
    "df_train = df[:train_size]\n",
    "\n",
    "\n",
    "# We create a temporary variable for our test set. This includes all features (Height, Weight, Age),\n",
    "# as well as label (Gender). We want to split those out.\n",
    "df_test_temp = df[train_size:]\n",
    "\n",
    "# The test set's X just needs the following 3 columns\n",
    "df_test_X = df_test_temp[[\"Height\", \"Weight\", \"Age\"]]\n",
    "\n",
    "# The test set's y just needs the Gender column\n",
    "df_test_y = df_test_temp[[\"Gender\"]]\n",
    "\n",
    "print(\"Test X:\")\n",
    "print(df_test_X.head())\n",
    "\n",
    "print(\"\\nTest y:\")\n",
    "print(df_test_y.head())\n",
    "\n",
    "# Now we can delete the temp dataframe we made earlier.\n",
    "del df_test_temp"
   ]
  },
  {
   "cell_type": "markdown",
   "metadata": {},
   "source": [
    "\n",
    "## Recap: Bayes Theorem\n",
    "\n",
    "Bayes theorem is a famous equation that allows us to make predictions based on data:\n",
    "\n",
    "$$\n",
    "P(A \\mid B) = \\frac{P(B \\mid A) P(A)}{P(B)}\n",
    "$$\n",
    "\n",
    "Specifically, we're trying to figure out the class (i.e. \"male\" or \"female\") of an observation _given_ the data\n",
    "\n",
    "$$\n",
    "p(class \\mid \\mathbf{data}) = \\frac{p(\\mathbf{data} \\mid class) * p(class)}{p(\\mathbf{data})}\n",
    "$$\n",
    "\n",
    "\n",
    "where:\n",
    "- class is a particular class (i.e. \"male\" or \"female\")\n",
    "- $\\mathbf{data}$ is an observation's data (the features)\n",
    "- $p(class \\mid \\mathbf{data})$ is called the posterior\n",
    "- $p(\\mathbf{data} \\mid class)$ is called the likelihood\n",
    "- $p(class)$ is called the prior\n",
    "- $p(\\mathbf{data})$ is called the marginal probability"
   ]
  },
  {
   "cell_type": "markdown",
   "metadata": {},
   "source": [
    "### Bayes Theorem Applied to Predicting \"Male\" or \"Female\"\n",
    "\n",
    "$$\n",
    "p(person\\:is\\:male \\mid \\mathbf{person's\\:data}) = \\frac{\n",
    "p(\\mathbf{person's\\:data}\\mid person\\:is\\:male) * p(person\\:is\\:male)\n",
    "}{\n",
    "p(\\mathbf{person's\\:data})\n",
    "}\n",
    "$$\n",
    "\n",
    "#### More Specifically:\n",
    "Let's factor in height, weight, age\n",
    "$$\n",
    "posterior(male) = \\frac{\n",
    "p(height \\mid male)\\,p(weight|male)\\,p(age \\mid male)\\,p(male)\n",
    "}{\n",
    "\\mathit{marginal\\;probability}\n",
    "}\n",
    "$$\n",
    "\n",
    "\n",
    "__Two things to note:__\n",
    "\n",
    "1. We assume each feature is uncorrelated from each other. This independence assumption of Naive Bayes is what makes it \"Naive\". This assumption may not be true in the real world but let's stick with it and see what happens.\n",
    "\n",
    "2. We assume that the value of the features (height of the women, weight of the women) are normally (gaussian) distributed. This means that $p(height \\mid female)$ is calculated by inputing the required parameters into the probability density function of the normal distribution:\n",
    "\n",
    "__WARNING__: Very mathy, but we'll just have one helper function do this for us.\n",
    "\n",
    "$$\n",
    "p(height \\mid female) = \\frac{1}{\\sqrt{2\\pi(\\text{variance of female height in data})}}\n",
    "- e^{-\\frac{\n",
    " (\\text{observation's height} - \\text{average height of females in the data})^2\n",
    "}{\n",
    "2*(\\text{variance of female height in data})\n",
    "}\n",
    "}\n",
    "$$\n",
    "\n",
    "\n"
   ]
  },
  {
   "cell_type": "code",
   "execution_count": null,
   "metadata": {},
   "outputs": [],
   "source": [
    "def p_x_given_y(y, mean_y, variance_y):\n",
    "    \"\"\"This function calculates p(x | y)\"\"\"\n",
    "\n",
    "    # Input the arguments into a probability density function\n",
    "    p = 1/(np.sqrt(2*np.pi*variance_y)) * np.exp((-(y-mean_y)**2)/(2*variance_y))\n",
    "    \n",
    "    # return p\n",
    "    return p"
   ]
  },
  {
   "cell_type": "code",
   "execution_count": null,
   "metadata": {},
   "outputs": [],
   "source": [
    "# Number of males\n",
    "n_male = df_train[\"Gender\"][df_train[\"Gender\"] == \"male\"].count()\n",
    "print(\"Number of males: {}\".format(n_male))\n",
    "\n",
    "# TODO: Get the number of females\n",
    "n_female = 0\n",
    "print(\"Number of females: {}\".format(n_female))\n",
    "\n",
    "total_ppl = df_train[\"Gender\"].count()\n",
    "print(\"Total Population: {}\".format(total_ppl))"
   ]
  },
  {
   "cell_type": "code",
   "execution_count": null,
   "metadata": {},
   "outputs": [],
   "source": [
    "# TODO: Calculate the priors p(male) and p(female) using the values above.\n",
    "# This is the ratio of males to everyone, and females to everyone respectively.\n",
    "\n",
    "p_male = 0.0\n",
    "print(\"p(male) = {}\".format(p_male))\n",
    "\n",
    "p_female = 0.0\n",
    "print(\"p(female) = {}\".format(p_female))"
   ]
  },
  {
   "cell_type": "code",
   "execution_count": null,
   "metadata": {},
   "outputs": [],
   "source": [
    "# To use the function p_x_given_y(), we must compute the means and\n",
    "# variances for each attribute for each class.\n",
    "\n",
    "# Group the data by gender and calculate the mean of each feature\n",
    "# by gender.\n",
    "df_means = df_train.groupby(\"Gender\").mean()\n",
    "\n",
    "# View the values\n",
    "df_means.head()"
   ]
  },
  {
   "cell_type": "markdown",
   "metadata": {},
   "source": [
    "## Pandas Documentation\n",
    "Refer to [pandas docs](https://pandas.pydata.org/pandas-docs/stable/generated/pandas.DataFrame.var.html) for this next part."
   ]
  },
  {
   "cell_type": "code",
   "execution_count": null,
   "metadata": {},
   "outputs": [],
   "source": [
    "# TODO: Group the data by gender and calculate the variance of each\n",
    "# feature by gender.\n",
    "df_vars = None\n",
    "\n",
    "# TODO: View the values\n",
    "df_vars.head()"
   ]
  },
  {
   "cell_type": "code",
   "execution_count": null,
   "metadata": {},
   "outputs": [],
   "source": [
    "# Now we'll extract the mean and variance of each attribute from the\n",
    "# above two tables. It looks like a ton of code but it's really just\n",
    "# pulling from those tables.\n",
    "\n",
    "# Means for male\n",
    "male_height_mean = df_means['Height'][df_means.index == 'male'].values[0]\n",
    "male_weight_mean = df_means['Weight'][df_means.index == 'male'].values[0]\n",
    "male_age_mean = df_means['Age'][df_means.index == 'male'].values[0]\n",
    "\n",
    "# Means for female\n",
    "female_height_mean = df_means['Height'][df_means.index == 'female'].values[0]\n",
    "female_weight_mean = df_means['Weight'][df_means.index == 'female'].values[0]\n",
    "female_age_mean = df_means['Age'][df_means.index == 'female'].values[0]"
   ]
  },
  {
   "cell_type": "code",
   "execution_count": null,
   "metadata": {},
   "outputs": [],
   "source": [
    "# TODO: Compute the variances for males and females, respectively, for\n",
    "# each attribute.\n",
    "\n",
    "# Variances for male\n",
    "male_height_var = 0\n",
    "male_weight_var = 1\n",
    "male_age_var = 2\n",
    "\n",
    "# Variances for female\n",
    "female_height_var = 0\n",
    "female_weight_var = 1\n",
    "female_age_var = 2"
   ]
  },
  {
   "cell_type": "markdown",
   "metadata": {},
   "source": [
    "## Apply Bayes Classifier to New Data Point\n",
    "\n",
    "Now, all we have to do when we get a new datapoint is extract the features out and compare which label has a higher\n",
    "probability."
   ]
  },
  {
   "cell_type": "code",
   "execution_count": null,
   "metadata": {},
   "outputs": [],
   "source": [
    "first_X_df = df_test_X.iloc[0]\n",
    "print(first_X_df)\n",
    "print(\"\\n=======================\\n\")\n",
    "\n",
    "# Get the values out of the dataframe as a list\n",
    "first_X = first_X_df.values\n",
    "print(\"\\nHeight\\t\\tWeight\\tAge\\n\")\n",
    "print(first_X)\n",
    "\n",
    "# Unpack out the 3 fields from that list.\n",
    "height, weight, age = first_X"
   ]
  },
  {
   "cell_type": "code",
   "execution_count": null,
   "metadata": {},
   "outputs": [],
   "source": [
    "first_y_df = df_test_y.iloc[0]\n",
    "print(first_y_df)\n",
    "print(\"\\n=======================\\n\")\n",
    "\n",
    "\n",
    "# Get the values out of the dataframe as a list\n",
    "first_y = first_y_df.values\n",
    "print(\"Gender\")\n",
    "\n",
    "actual_y = first_y[0]\n",
    "print(actual_y)"
   ]
  },
  {
   "cell_type": "code",
   "execution_count": null,
   "metadata": {},
   "outputs": [],
   "source": [
    "# Compute the conditional probabilities\n",
    "p_male_given_height = p_x_given_y(height, male_height_mean, male_height_var)\n",
    "p_male_given_weight = p_x_given_y(weight, male_weight_mean, male_weight_var)\n",
    "\n",
    "# TODO: Compute p_male_given_age\n",
    "p_male_given_age = 0\n",
    "\n",
    "\n",
    "# TODO: Compute p_female_given_height, p_female_given_weight, p_female_given_age\n",
    "p_female_given_height = 0\n",
    "p_female_given_weight = 0\n",
    "p_female_given_age = 0"
   ]
  },
  {
   "cell_type": "code",
   "execution_count": null,
   "metadata": {},
   "outputs": [],
   "source": [
    "# Now, we just need to compare p(male) to p(female)\n",
    "\n",
    "# TODO: Multiply out the 4 parts of the numerator here, separately for male and female\n",
    "p_male_given_data =  0\n",
    "p_female_given_data = 0\n",
    "\n",
    "print(\"p_male_given_data: {}\".format(p_male_given_data))\n",
    "print(\"p_female_given_data: {}\".format(p_female_given_data))"
   ]
  },
  {
   "cell_type": "code",
   "execution_count": null,
   "metadata": {},
   "outputs": [],
   "source": [
    "prediction = \"\"\n",
    "if p_male_given_data > p_female_given_data:\n",
    "    prediction = \"male\"\n",
    "else:\n",
    "    prediction = \"female\"\n",
    "    \n",
    "print(\"Prediction: {}\".format(prediction))\n",
    "print(\"Actual: {}\".format(actual_y))\n",
    "print(prediction == actual_y)"
   ]
  },
  {
   "cell_type": "code",
   "execution_count": null,
   "metadata": {},
   "outputs": [],
   "source": [
    "# TODO: Now, write a loop that loops over all rows in df_test_X and df_test_y and\n",
    "# creates predictions like we did above, and track how many times we predict correctly.\n",
    "\n",
    "# HINT: Store \"True\" or \"False\" for whether your prediction was right in a list, then count\n",
    "# the \"True\"s and print out what percentage were correct."
   ]
  }
 ],
 "metadata": {
  "kernelspec": {
   "display_name": "Python 3",
   "language": "python",
   "name": "python3"
  },
  "language_info": {
   "codemirror_mode": {
    "name": "ipython",
    "version": 3
   },
   "file_extension": ".py",
   "mimetype": "text/x-python",
   "name": "python",
   "nbconvert_exporter": "python",
   "pygments_lexer": "ipython3",
   "version": "3.6.5"
  }
 },
 "nbformat": 4,
 "nbformat_minor": 2
}
